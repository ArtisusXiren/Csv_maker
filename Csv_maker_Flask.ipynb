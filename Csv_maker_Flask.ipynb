{
 "cells": [
  {
   "cell_type": "code",
   "execution_count": 1,
   "id": "80734dec-7b71-4661-b2d7-65057a5dc89e",
   "metadata": {},
   "outputs": [],
   "source": [
    "from flask import Flask, render_template, request, send_file\n",
    "import pandas as pd\n",
    "app_csv=Flask(__name__)\n",
    "@app_csv.route(\"/\")\n",
    "def webpage():\n",
    "    return render_template(\"CSV.html\")\n",
    "@app_csv.route('/upload',methods=['POST'])\n",
    "def upload():\n",
    "    global upload_file\n",
    "    global products_data\n",
    "    global path_decided\n",
    "    file= request.files['file']\n",
    "    file_to_change=request.files['file_to_change']\n",
    "    directory=request.form['directory']\n",
    "    products_data=pd.read_csv(file,low_memory=False)\n",
    "    upload_file=pd.read_csv(file_to_change,low_memory=False)\n",
    "    path_decided=directory\n",
    "    from Csv_maker import process_csv\n",
    "    process_csv(products_data, upload_file, path_decided)\n",
    "    return \"Upload Complete\""
   ]
  },
  {
   "cell_type": "code",
   "execution_count": null,
   "id": "eb6f105f-8cd4-42ed-8036-98bbf8a58d4f",
   "metadata": {
    "tags": []
   },
   "outputs": [
    {
     "name": "stdout",
     "output_type": "stream",
     "text": [
      " * Serving Flask app '__main__'\n",
      " * Debug mode: off\n"
     ]
    },
    {
     "name": "stderr",
     "output_type": "stream",
     "text": [
      "WARNING: This is a development server. Do not use it in a production deployment. Use a production WSGI server instead.\n",
      " * Running on http://127.0.0.1:5000\n",
      "Press CTRL+C to quit\n",
      "127.0.0.1 - - [24/Jan/2024 12:27:20] \"GET / HTTP/1.1\" 200 -\n",
      "127.0.0.1 - - [24/Jan/2024 12:27:35] \"POST /upload HTTP/1.1\" 200 -\n",
      "127.0.0.1 - - [24/Jan/2024 12:27:41] \"POST /upload HTTP/1.1\" 200 -\n",
      "127.0.0.1 - - [24/Jan/2024 12:27:46] \"POST /upload HTTP/1.1\" 200 -\n",
      "127.0.0.1 - - [24/Jan/2024 12:27:51] \"POST /upload HTTP/1.1\" 200 -\n"
     ]
    }
   ],
   "source": [
    "app_csv.run()"
   ]
  }
 ],
 "metadata": {
  "kernelspec": {
   "display_name": "Python 3 (ipykernel)",
   "language": "python",
   "name": "python3"
  },
  "language_info": {
   "codemirror_mode": {
    "name": "ipython",
    "version": 3
   },
   "file_extension": ".py",
   "mimetype": "text/x-python",
   "name": "python",
   "nbconvert_exporter": "python",
   "pygments_lexer": "ipython3",
   "version": "3.11.5"
  }
 },
 "nbformat": 4,
 "nbformat_minor": 5
}
